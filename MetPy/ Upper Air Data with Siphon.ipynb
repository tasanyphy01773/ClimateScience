{
 "cells": [
  {
   "cell_type": "code",
   "execution_count": 17,
   "metadata": {},
   "outputs": [],
   "source": [
    "# date = datetime(2017, 3, 10, 0)\n",
    "# station = \"EYW\""
   ]
  },
  {
   "cell_type": "code",
   "execution_count": 1,
   "metadata": {},
   "outputs": [],
   "source": [
    "from datetime import datetime"
   ]
  },
  {
   "cell_type": "code",
   "execution_count": 2,
   "metadata": {},
   "outputs": [],
   "source": [
    "date = datetime(2017, 3, 10, 0)\n",
    "station = \"EYW\""
   ]
  },
  {
   "cell_type": "code",
   "execution_count": 3,
   "metadata": {},
   "outputs": [],
   "source": [
    "from siphon.simplewebservice.wyoming import WyomingUpperAir"
   ]
  },
  {
   "cell_type": "code",
   "execution_count": 4,
   "metadata": {},
   "outputs": [],
   "source": [
    "df = WyomingUpperAir.request_data(date, station)"
   ]
  },
  {
   "cell_type": "code",
   "execution_count": 5,
   "metadata": {},
   "outputs": [
    {
     "data": {
      "text/html": [
       "<div>\n",
       "<style scoped>\n",
       "    .dataframe tbody tr th:only-of-type {\n",
       "        vertical-align: middle;\n",
       "    }\n",
       "\n",
       "    .dataframe tbody tr th {\n",
       "        vertical-align: top;\n",
       "    }\n",
       "\n",
       "    .dataframe thead th {\n",
       "        text-align: right;\n",
       "    }\n",
       "</style>\n",
       "<table border=\"1\" class=\"dataframe\">\n",
       "  <thead>\n",
       "    <tr style=\"text-align: right;\">\n",
       "      <th></th>\n",
       "      <th>pressure</th>\n",
       "      <th>height</th>\n",
       "      <th>temperature</th>\n",
       "      <th>dewpoint</th>\n",
       "      <th>direction</th>\n",
       "      <th>speed</th>\n",
       "      <th>u_wind</th>\n",
       "      <th>v_wind</th>\n",
       "      <th>station</th>\n",
       "      <th>station_number</th>\n",
       "      <th>time</th>\n",
       "      <th>latitude</th>\n",
       "      <th>longitude</th>\n",
       "      <th>elevation</th>\n",
       "      <th>pw</th>\n",
       "    </tr>\n",
       "  </thead>\n",
       "  <tbody>\n",
       "    <tr>\n",
       "      <th>0</th>\n",
       "      <td>1018.0</td>\n",
       "      <td>13</td>\n",
       "      <td>24.4</td>\n",
       "      <td>17.4</td>\n",
       "      <td>80.0</td>\n",
       "      <td>5.0</td>\n",
       "      <td>-4.924039</td>\n",
       "      <td>-0.868241</td>\n",
       "      <td>EYW</td>\n",
       "      <td>72201</td>\n",
       "      <td>2017-03-10</td>\n",
       "      <td>24.55</td>\n",
       "      <td>-81.79</td>\n",
       "      <td>13.0</td>\n",
       "      <td>27.33</td>\n",
       "    </tr>\n",
       "    <tr>\n",
       "      <th>1</th>\n",
       "      <td>1000.0</td>\n",
       "      <td>172</td>\n",
       "      <td>22.8</td>\n",
       "      <td>16.8</td>\n",
       "      <td>70.0</td>\n",
       "      <td>10.0</td>\n",
       "      <td>-9.396926</td>\n",
       "      <td>-3.420201</td>\n",
       "      <td>EYW</td>\n",
       "      <td>72201</td>\n",
       "      <td>2017-03-10</td>\n",
       "      <td>24.55</td>\n",
       "      <td>-81.79</td>\n",
       "      <td>13.0</td>\n",
       "      <td>27.33</td>\n",
       "    </tr>\n",
       "    <tr>\n",
       "      <th>2</th>\n",
       "      <td>984.7</td>\n",
       "      <td>305</td>\n",
       "      <td>21.6</td>\n",
       "      <td>16.4</td>\n",
       "      <td>85.0</td>\n",
       "      <td>12.0</td>\n",
       "      <td>-11.954336</td>\n",
       "      <td>-1.045869</td>\n",
       "      <td>EYW</td>\n",
       "      <td>72201</td>\n",
       "      <td>2017-03-10</td>\n",
       "      <td>24.55</td>\n",
       "      <td>-81.79</td>\n",
       "      <td>13.0</td>\n",
       "      <td>27.33</td>\n",
       "    </tr>\n",
       "    <tr>\n",
       "      <th>3</th>\n",
       "      <td>950.5</td>\n",
       "      <td>610</td>\n",
       "      <td>18.7</td>\n",
       "      <td>15.6</td>\n",
       "      <td>80.0</td>\n",
       "      <td>11.0</td>\n",
       "      <td>-10.832885</td>\n",
       "      <td>-1.910130</td>\n",
       "      <td>EYW</td>\n",
       "      <td>72201</td>\n",
       "      <td>2017-03-10</td>\n",
       "      <td>24.55</td>\n",
       "      <td>-81.79</td>\n",
       "      <td>13.0</td>\n",
       "      <td>27.33</td>\n",
       "    </tr>\n",
       "    <tr>\n",
       "      <th>4</th>\n",
       "      <td>928.0</td>\n",
       "      <td>817</td>\n",
       "      <td>16.8</td>\n",
       "      <td>15.0</td>\n",
       "      <td>76.0</td>\n",
       "      <td>13.0</td>\n",
       "      <td>-12.613844</td>\n",
       "      <td>-3.144985</td>\n",
       "      <td>EYW</td>\n",
       "      <td>72201</td>\n",
       "      <td>2017-03-10</td>\n",
       "      <td>24.55</td>\n",
       "      <td>-81.79</td>\n",
       "      <td>13.0</td>\n",
       "      <td>27.33</td>\n",
       "    </tr>\n",
       "    <tr>\n",
       "      <th>...</th>\n",
       "      <td>...</td>\n",
       "      <td>...</td>\n",
       "      <td>...</td>\n",
       "      <td>...</td>\n",
       "      <td>...</td>\n",
       "      <td>...</td>\n",
       "      <td>...</td>\n",
       "      <td>...</td>\n",
       "      <td>...</td>\n",
       "      <td>...</td>\n",
       "      <td>...</td>\n",
       "      <td>...</td>\n",
       "      <td>...</td>\n",
       "      <td>...</td>\n",
       "      <td>...</td>\n",
       "    </tr>\n",
       "    <tr>\n",
       "      <th>145</th>\n",
       "      <td>12.1</td>\n",
       "      <td>29545</td>\n",
       "      <td>-41.3</td>\n",
       "      <td>-78.3</td>\n",
       "      <td>279.0</td>\n",
       "      <td>39.0</td>\n",
       "      <td>38.519845</td>\n",
       "      <td>-6.100944</td>\n",
       "      <td>EYW</td>\n",
       "      <td>72201</td>\n",
       "      <td>2017-03-10</td>\n",
       "      <td>24.55</td>\n",
       "      <td>-81.79</td>\n",
       "      <td>13.0</td>\n",
       "      <td>27.33</td>\n",
       "    </tr>\n",
       "    <tr>\n",
       "      <th>146</th>\n",
       "      <td>11.4</td>\n",
       "      <td>29952</td>\n",
       "      <td>-38.3</td>\n",
       "      <td>-75.3</td>\n",
       "      <td>282.0</td>\n",
       "      <td>41.0</td>\n",
       "      <td>40.104052</td>\n",
       "      <td>-8.524379</td>\n",
       "      <td>EYW</td>\n",
       "      <td>72201</td>\n",
       "      <td>2017-03-10</td>\n",
       "      <td>24.55</td>\n",
       "      <td>-81.79</td>\n",
       "      <td>13.0</td>\n",
       "      <td>27.33</td>\n",
       "    </tr>\n",
       "    <tr>\n",
       "      <th>147</th>\n",
       "      <td>10.6</td>\n",
       "      <td>30480</td>\n",
       "      <td>-38.2</td>\n",
       "      <td>-76.2</td>\n",
       "      <td>285.0</td>\n",
       "      <td>43.0</td>\n",
       "      <td>41.534811</td>\n",
       "      <td>-11.129219</td>\n",
       "      <td>EYW</td>\n",
       "      <td>72201</td>\n",
       "      <td>2017-03-10</td>\n",
       "      <td>24.55</td>\n",
       "      <td>-81.79</td>\n",
       "      <td>13.0</td>\n",
       "      <td>27.33</td>\n",
       "    </tr>\n",
       "    <tr>\n",
       "      <th>148</th>\n",
       "      <td>10.6</td>\n",
       "      <td>30452</td>\n",
       "      <td>-38.1</td>\n",
       "      <td>-76.1</td>\n",
       "      <td>285.0</td>\n",
       "      <td>43.0</td>\n",
       "      <td>41.534811</td>\n",
       "      <td>-11.129219</td>\n",
       "      <td>EYW</td>\n",
       "      <td>72201</td>\n",
       "      <td>2017-03-10</td>\n",
       "      <td>24.55</td>\n",
       "      <td>-81.79</td>\n",
       "      <td>13.0</td>\n",
       "      <td>27.33</td>\n",
       "    </tr>\n",
       "    <tr>\n",
       "      <th>149</th>\n",
       "      <td>10.1</td>\n",
       "      <td>30783</td>\n",
       "      <td>-39.9</td>\n",
       "      <td>-76.9</td>\n",
       "      <td>NaN</td>\n",
       "      <td>NaN</td>\n",
       "      <td>NaN</td>\n",
       "      <td>NaN</td>\n",
       "      <td>EYW</td>\n",
       "      <td>72201</td>\n",
       "      <td>2017-03-10</td>\n",
       "      <td>24.55</td>\n",
       "      <td>-81.79</td>\n",
       "      <td>13.0</td>\n",
       "      <td>27.33</td>\n",
       "    </tr>\n",
       "  </tbody>\n",
       "</table>\n",
       "<p>150 rows × 15 columns</p>\n",
       "</div>"
      ],
      "text/plain": [
       "     pressure  height  temperature  dewpoint  direction  speed     u_wind  \\\n",
       "0      1018.0      13         24.4      17.4       80.0    5.0  -4.924039   \n",
       "1      1000.0     172         22.8      16.8       70.0   10.0  -9.396926   \n",
       "2       984.7     305         21.6      16.4       85.0   12.0 -11.954336   \n",
       "3       950.5     610         18.7      15.6       80.0   11.0 -10.832885   \n",
       "4       928.0     817         16.8      15.0       76.0   13.0 -12.613844   \n",
       "..        ...     ...          ...       ...        ...    ...        ...   \n",
       "145      12.1   29545        -41.3     -78.3      279.0   39.0  38.519845   \n",
       "146      11.4   29952        -38.3     -75.3      282.0   41.0  40.104052   \n",
       "147      10.6   30480        -38.2     -76.2      285.0   43.0  41.534811   \n",
       "148      10.6   30452        -38.1     -76.1      285.0   43.0  41.534811   \n",
       "149      10.1   30783        -39.9     -76.9        NaN    NaN        NaN   \n",
       "\n",
       "        v_wind station  station_number       time  latitude  longitude  \\\n",
       "0    -0.868241     EYW           72201 2017-03-10     24.55     -81.79   \n",
       "1    -3.420201     EYW           72201 2017-03-10     24.55     -81.79   \n",
       "2    -1.045869     EYW           72201 2017-03-10     24.55     -81.79   \n",
       "3    -1.910130     EYW           72201 2017-03-10     24.55     -81.79   \n",
       "4    -3.144985     EYW           72201 2017-03-10     24.55     -81.79   \n",
       "..         ...     ...             ...        ...       ...        ...   \n",
       "145  -6.100944     EYW           72201 2017-03-10     24.55     -81.79   \n",
       "146  -8.524379     EYW           72201 2017-03-10     24.55     -81.79   \n",
       "147 -11.129219     EYW           72201 2017-03-10     24.55     -81.79   \n",
       "148 -11.129219     EYW           72201 2017-03-10     24.55     -81.79   \n",
       "149        NaN     EYW           72201 2017-03-10     24.55     -81.79   \n",
       "\n",
       "     elevation     pw  \n",
       "0         13.0  27.33  \n",
       "1         13.0  27.33  \n",
       "2         13.0  27.33  \n",
       "3         13.0  27.33  \n",
       "4         13.0  27.33  \n",
       "..         ...    ...  \n",
       "145       13.0  27.33  \n",
       "146       13.0  27.33  \n",
       "147       13.0  27.33  \n",
       "148       13.0  27.33  \n",
       "149       13.0  27.33  \n",
       "\n",
       "[150 rows x 15 columns]"
      ]
     },
     "execution_count": 5,
     "metadata": {},
     "output_type": "execute_result"
    }
   ],
   "source": [
    "df"
   ]
  },
  {
   "cell_type": "code",
   "execution_count": 6,
   "metadata": {},
   "outputs": [
    {
     "data": {
      "text/plain": [
       "{'pressure': 'hPa',\n",
       " 'height': 'meter',\n",
       " 'temperature': 'degC',\n",
       " 'dewpoint': 'degC',\n",
       " 'direction': 'degrees',\n",
       " 'speed': 'knot',\n",
       " 'u_wind': 'knot',\n",
       " 'v_wind': 'knot',\n",
       " 'station': None,\n",
       " 'station_number': None,\n",
       " 'time': None,\n",
       " 'latitude': 'degrees',\n",
       " 'longitude': 'degrees',\n",
       " 'elevation': 'meter',\n",
       " 'pw': 'millimeter'}"
      ]
     },
     "execution_count": 6,
     "metadata": {},
     "output_type": "execute_result"
    }
   ],
   "source": [
    "df.units"
   ]
  },
  {
   "cell_type": "code",
   "execution_count": 7,
   "metadata": {},
   "outputs": [
    {
     "data": {
      "text/plain": [
       "'degC'"
      ]
     },
     "execution_count": 7,
     "metadata": {},
     "output_type": "execute_result"
    }
   ],
   "source": [
    "df.units['dewpoint']"
   ]
  },
  {
   "cell_type": "code",
   "execution_count": 22,
   "metadata": {},
   "outputs": [
    {
     "name": "stdout",
     "output_type": "stream",
     "text": [
      "Warning: ecCodes 2.21.0 or higher is recommended. You are running version 2.16.0\n"
     ]
    }
   ],
   "source": [
    "from metpy.units import units"
   ]
  },
  {
   "cell_type": "code",
   "execution_count": 26,
   "metadata": {},
   "outputs": [],
   "source": [
    "r = df['pressure'].values * units(df.units['pressure'])"
   ]
  },
  {
   "cell_type": "code",
   "execution_count": 28,
   "metadata": {},
   "outputs": [
    {
     "data": {
      "text/html": [
       "<table><tbody><tr><th>Magnitude</th><td style='text-align:left;'><pre>[1018.0 1000.0 984.7 950.5 928.0 925.0 917.5 904.0 889.0 885.1 880.0 862.0<br> 856.0 850.0 847.0 828.0 823.1 818.0 813.0 807.0 796.0 793.6 765.2 745.0<br> 737.6 700.0 689.0 677.0 667.0 659.4 652.0 642.0 638.0 616.0 611.4 593.0<br> 582.0 579.0 566.2 566.0 503.8 502.0 500.0 495.0 484.2 478.0 465.0 452.0<br> 444.0 432.0 416.0 409.0 407.0 402.0 400.0 395.2 395.0 380.0 366.0 363.6<br> 356.0 350.0 345.0 319.8 317.0 307.0 306.2 300.0 298.0 292.0 286.0 275.0<br> 268.0 256.1 250.0 200.0 199.0 184.7 181.0 179.0 152.0 151.7 150.0 147.0<br> 144.3 138.0 133.0 123.9 123.0 116.0 113.0 106.1 104.0 102.0 100.0 87.2<br> 79.7 73.3 71.4 70.0 67.6 65.9 65.8 62.5 59.3 56.3 56.2 53.3 50.8 50.0<br> 48.2 45.8 43.6 43.5 39.4 36.5 35.6 33.9 33.5 32.3 30.8 30.0 29.4 28.0<br> 27.3 26.7 25.4 22.3 22.0 21.0 20.1 20.0 19.8 19.1 18.3 17.2 16.6 15.9<br> 15.2 15.2 14.7 14.5 14.2 13.2 13.2 12.1 11.4 10.6 10.6 10.1]</pre></td></tr><tr><th>Units</th><td style='text-align:left;'>hectopascal</td></tr></tbody></table>"
      ],
      "text/latex": [
       "$\\begin{pmatrix}1018.0 & 1000.0 & 984.7 & 950.5 & 928.0 & 925.0 & 917.5 & 904.0 & 889.0 & 885.1 & 880.0 & 862.0 & 856.0 & 850.0 & 847.0 & 828.0 & 823.1 & 818.0 & 813.0 & 807.0 & 796.0 & 793.6 & 765.2 & 745.0 & 737.6 & 700.0 & 689.0 & 677.0 & 667.0 & 659.4 & 652.0 & 642.0 & 638.0 & 616.0 & 611.4 & 593.0 & 582.0 & 579.0 & 566.2 & 566.0 & 503.8 & 502.0 & 500.0 & 495.0 & 484.2 & 478.0 & 465.0 & 452.0 & 444.0 & 432.0 & 416.0 & 409.0 & 407.0 & 402.0 & 400.0 & 395.2 & 395.0 & 380.0 & 366.0 & 363.6 & 356.0 & 350.0 & 345.0 & 319.8 & 317.0 & 307.0 & 306.2 & 300.0 & 298.0 & 292.0 & 286.0 & 275.0 & 268.0 & 256.1 & 250.0 & 200.0 & 199.0 & 184.7 & 181.0 & 179.0 & 152.0 & 151.7 & 150.0 & 147.0 & 144.3 & 138.0 & 133.0 & 123.9 & 123.0 & 116.0 & 113.0 & 106.1 & 104.0 & 102.0 & 100.0 & 87.2 & 79.7 & 73.3 & 71.4 & 70.0 & 67.6 & 65.9 & 65.8 & 62.5 & 59.3 & 56.3 & 56.2 & 53.3 & 50.8 & 50.0 & 48.2 & 45.8 & 43.6 & 43.5 & 39.4 & 36.5 & 35.6 & 33.9 & 33.5 & 32.3 & 30.8 & 30.0 & 29.4 & 28.0 & 27.3 & 26.7 & 25.4 & 22.3 & 22.0 & 21.0 & 20.1 & 20.0 & 19.8 & 19.1 & 18.3 & 17.2 & 16.6 & 15.9 & 15.2 & 15.2 & 14.7 & 14.5 & 14.2 & 13.2 & 13.2 & 12.1 & 11.4 & 10.6 & 10.6 & 10.1\\end{pmatrix}\\ \\mathrm{hectopascal}$"
      ],
      "text/plain": [
       "array([1018. , 1000. ,  984.7,  950.5,  928. ,  925. ,  917.5,  904. ,\n",
       "        889. ,  885.1,  880. ,  862. ,  856. ,  850. ,  847. ,  828. ,\n",
       "        823.1,  818. ,  813. ,  807. ,  796. ,  793.6,  765.2,  745. ,\n",
       "        737.6,  700. ,  689. ,  677. ,  667. ,  659.4,  652. ,  642. ,\n",
       "        638. ,  616. ,  611.4,  593. ,  582. ,  579. ,  566.2,  566. ,\n",
       "        503.8,  502. ,  500. ,  495. ,  484.2,  478. ,  465. ,  452. ,\n",
       "        444. ,  432. ,  416. ,  409. ,  407. ,  402. ,  400. ,  395.2,\n",
       "        395. ,  380. ,  366. ,  363.6,  356. ,  350. ,  345. ,  319.8,\n",
       "        317. ,  307. ,  306.2,  300. ,  298. ,  292. ,  286. ,  275. ,\n",
       "        268. ,  256.1,  250. ,  200. ,  199. ,  184.7,  181. ,  179. ,\n",
       "        152. ,  151.7,  150. ,  147. ,  144.3,  138. ,  133. ,  123.9,\n",
       "        123. ,  116. ,  113. ,  106.1,  104. ,  102. ,  100. ,   87.2,\n",
       "         79.7,   73.3,   71.4,   70. ,   67.6,   65.9,   65.8,   62.5,\n",
       "         59.3,   56.3,   56.2,   53.3,   50.8,   50. ,   48.2,   45.8,\n",
       "         43.6,   43.5,   39.4,   36.5,   35.6,   33.9,   33.5,   32.3,\n",
       "         30.8,   30. ,   29.4,   28. ,   27.3,   26.7,   25.4,   22.3,\n",
       "         22. ,   21. ,   20.1,   20. ,   19.8,   19.1,   18.3,   17.2,\n",
       "         16.6,   15.9,   15.2,   15.2,   14.7,   14.5,   14.2,   13.2,\n",
       "         13.2,   12.1,   11.4,   10.6,   10.6,   10.1]) <Unit('hectopascal')>"
      ]
     },
     "execution_count": 28,
     "metadata": {},
     "output_type": "execute_result"
    }
   ],
   "source": [
    "r"
   ]
  }
 ],
 "metadata": {
  "kernelspec": {
   "display_name": "Python 3",
   "language": "python",
   "name": "python3"
  },
  "language_info": {
   "codemirror_mode": {
    "name": "ipython",
    "version": 3
   },
   "file_extension": ".py",
   "mimetype": "text/x-python",
   "name": "python",
   "nbconvert_exporter": "python",
   "pygments_lexer": "ipython3",
   "version": "3.8.5"
  }
 },
 "nbformat": 4,
 "nbformat_minor": 4
}
